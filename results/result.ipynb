{
 "cells": [
  {
   "cell_type": "code",
   "execution_count": 1,
   "metadata": {},
   "outputs": [],
   "source": [
    "import json\n",
    "\n",
    "input_dim = 1\n",
    "file_path = 'results_dim_{}.json'.format(input_dim)\n",
    "\n",
    "results = []\n",
    "with open(file_path, 'r') as file:\n",
    "    for line in file:\n",
    "        line = line.strip()\n",
    "        if not line:\n",
    "            continue\n",
    "        results.append(json.loads(line))"
   ]
  },
  {
   "cell_type": "code",
   "execution_count": 4,
   "metadata": {},
   "outputs": [
    {
     "name": "stdout",
     "output_type": "stream",
     "text": [
      "Number of fullgp results for input_dim 1: 11\n",
      "Lengthscale: [0.16476784646511078, 0.1640811413526535, 0.16551578044891357, 0.163508340716362, 0.1647564321756363, 0.16609787940979004, 0.1645132601261139, 0.16546829044818878, 0.16473858058452606, 0.16444028913974762, 0.16372457146644592]\n",
      "Outputscale: [2.4900197982788086, 2.488095283508301, 2.4896469116210938, 2.4916417598724365, 2.484248161315918, 2.485447883605957, 2.4935030937194824, 2.482090711593628, 2.485661506652832, 2.4859423637390137, 2.4948365688323975]\n",
      "Noise: [0.03962897136807442, 0.04130354896187782, 0.03868158906698227, 0.039914362132549286, 0.040362175554037094, 0.04134052246809006, 0.0392853245139122, 0.03888394683599472, 0.040325894951820374, 0.04019021615386009, 0.03999821096658707]\n"
     ]
    }
   ],
   "source": [
    "fullgp_dim_1_results = [\n",
    "    results for results in results \n",
    "    if results['model'] == 'fullGP' and results['input_dim'] == input_dim\n",
    "]\n",
    "\n",
    "print('Number of fullgp results for input_dim {}: {}'.format(input_dim, len(fullgp_dim_1_results)))\n",
    "\n",
    "full_lengthscale = []\n",
    "full_outputscale = []\n",
    "full_noise = []\n",
    "\n",
    "for idx in range(len(fullgp_dim_1_results)):\n",
    "    full_lengthscale.append(fullgp_dim_1_results[idx]['lengthscale'][0][0])\n",
    "    full_outputscale.append(fullgp_dim_1_results[idx]['outputscale'])\n",
    "    full_noise.append(fullgp_dim_1_results[idx]['noise'])\n",
    "\n",
    "print('Lengthscale: {}'.format(full_lengthscale))\n",
    "print('Outputscale: {}'.format(full_outputscale))\n",
    "print('Noise: {}'.format(full_noise))"
   ]
  },
  {
   "cell_type": "code",
   "execution_count": null,
   "metadata": {},
   "outputs": [],
   "source": [
    "pxp_dim_1_results = [\n",
    "    result for result in results\n",
    "    if result['model'] == 'pxpGP' and result['input_dim'] == input_dim\n",
    "]\n",
    "\n",
    "print(\"Number of PXP results with input_dim = {}: {}\".format(input_dim, len(pxp_dim_1_results)))\n",
    "\n",
    "pxp_lengthscales = []\n",
    "pxp_outputscales = []\n",
    "pxp_noise = []\n",
    "\n",
    "for idx in range(len(pxp_dim_1_results)):\n",
    "    # store model parameters\n",
    "    pxp_lengthscales.append(pxp_dim_1_results[idx]['lengthscale'][0][0])\n",
    "    pxp_outputscales.append(pxp_dim_1_results[idx]['outputscale'])\n",
    "    pxp_noise.append(pxp_dim_1_results[idx]['noise'])\n",
    "\n",
    "print(\"Lengthscales: {}\".format(pxp_lengthscales))\n",
    "print(\"Outputscales: {}\".format(pxp_outputscales))\n",
    "print(\"Noise: {}\".format(pxp_noise))"
   ]
  },
  {
   "cell_type": "code",
   "execution_count": null,
   "metadata": {},
   "outputs": [],
   "source": []
  }
 ],
 "metadata": {
  "kernelspec": {
   "display_name": "usr",
   "language": "python",
   "name": "python3"
  },
  "language_info": {
   "codemirror_mode": {
    "name": "ipython",
    "version": 3
   },
   "file_extension": ".py",
   "mimetype": "text/x-python",
   "name": "python",
   "nbconvert_exporter": "python",
   "pygments_lexer": "ipython3",
   "version": "3.10.12"
  }
 },
 "nbformat": 4,
 "nbformat_minor": 2
}
