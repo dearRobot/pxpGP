{
 "cells": [
  {
   "cell_type": "code",
   "execution_count": null,
   "metadata": {},
   "outputs": [],
   "source": [
    "import torch\n",
    "import gpytorch\n",
    "import matplotlib.pyplot as plt\n",
    "import numpy as np"
   ]
  },
  {
   "cell_type": "code",
   "execution_count": 2,
   "metadata": {},
   "outputs": [],
   "source": [
    "class ExactGPModel(gpytorch.models.ExactGP):\n",
    "    def __init__(self, train_x, train_y, likelihood, kernel, hyperparameters):\n",
    "        super().__init__(train_x, train_y, likelihood)\n",
    "        self.mean_module = gpytorch.means.ZeroMean()\n",
    "        self.covar_module = gpytorch.kernels.ScaleKernel(kernel)\n",
    "\n",
    "        # fix hyperparameters \n",
    "        self.covar_module.base_kernel.lengthscale = hyperparameters['lengthscale'] \n",
    "        self.covar_module.outputscale = hyperparameters['outputscale']\n",
    "        self.covar_module.base_kernel.noise = hyperparameters['noise']\n",
    "\n",
    "        self.covar_module.base_kernel.raw_lengthscale.requires_grad = False\n",
    "        self.covar_module.raw_outputscale.requires_grad = False\n",
    "    \n",
    "    def forward(self, x):\n",
    "        mean_x = self.mean_module(x)\n",
    "        covar_x = self.covar_module(x)\n",
    "        return gpytorch.distributions.MultivariateNormal(mean_x, covar_x)"
   ]
  },
  {
   "cell_type": "markdown",
   "metadata": {},
   "source": [
    "## 2D dataset:"
   ]
  },
  {
   "cell_type": "code",
   "execution_count": 3,
   "metadata": {},
   "outputs": [],
   "source": [
    "device = torch.device(\"cuda\" if torch.cuda.is_available() else \"cpu\")\n",
    "num_samples = 100\n",
    "input_dim = 2\n",
    "# torch.manual_seed(0)\n",
    "\n",
    "lengthscale = torch.tensor([0.5, 0.3], device=device)\n",
    "outputscale = torch.tensor(1.8, device=device)\n",
    "noise = 0.1\n",
    "\n",
    "hyperparameters = {\n",
    "    'lengthscale': lengthscale,\n",
    "    'outputscale': outputscale,\n",
    "    'noise': noise\n",
    "}\n",
    "\n"
   ]
  },
  {
   "cell_type": "code",
   "execution_count": 4,
   "metadata": {},
   "outputs": [],
   "source": [
    "train_x_np = np.random.uniform(low=-2.0, high=2.0, size=(num_samples, 2))\n",
    "train_x = torch.tensor(train_x_np, dtype=torch.float32, device=device)\n",
    "\n",
    "x1 = 4.0 * train_x_np[:, 0] - 2.0\n",
    "x2 = 4.0 * train_x_np[:, 1] - 2.0\n",
    "\n",
    "fact1a = (x1 + x2 + 1)**2\n",
    "fact1b = 19 - 14*x1 + 3*x1**2 - 14*x2 + 6*x1*x2 + 3*x2**2\n",
    "fact1 = 1 + fact1a * fact1b\n",
    "\n",
    "fact2a = (2*x1 - 3*x2)**2\n",
    "fact2b = 18 - 32*x1 + 12*x1**2 + 48*x2 - 36*x1*x2 + 27*x2**2\n",
    "fact2 = 30 + fact2a * fact2b\n",
    "\n",
    "prod = fact1 * fact2\n",
    "\n",
    "train_y_np = (np.log(prod) - 8.693) / 2.427\n",
    "\n",
    "train_y = torch.tensor(train_y_np, dtype=torch.float32, device=device)"
   ]
  },
  {
   "cell_type": "code",
   "execution_count": null,
   "metadata": {},
   "outputs": [],
   "source": [
    "likelihood = gpytorch.likelihoods.GaussianLikelihood()\n",
    "likelihood.noise = noise\n",
    "likelihood.raw_noise.requires_grad = False\n",
    "\n",
    "kernel = gpytorch.kernels.RBFKernel(ard_num_dims=input_dim)\n",
    "kernel.lengthscale = lengthscale\n",
    "kernel.outputscale = outputscale\n",
    "\n",
    "model = ExactGPModel(train_x, train_y, likelihood, kernel, hyperparameters)\n",
    "\n",
    "model.to(device)\n",
    "likelihood.to(device)\n"
   ]
  },
  {
   "cell_type": "code",
   "execution_count": null,
   "metadata": {},
   "outputs": [],
   "source": [
    "# print model hyperparameters\n",
    "if model.covar_module.base_kernel.lengthscale.numel() > 1:\n",
    "        print(f\"Lengthscale:\", model.covar_module.base_kernel.lengthscale.cpu().detach().numpy())  # Print all lengthscale values\n",
    "else:\n",
    "    print(f\"Lengthscale:\", model.covar_module.base_kernel.lengthscale.item())  # Print single lengthscale value\n",
    "\n",
    "print(f\"Outputscale:\", model.covar_module.outputscale.item())\n",
    "print(f\"Noise:\", model.likelihood.noise.item())"
   ]
  },
  {
   "cell_type": "code",
   "execution_count": null,
   "metadata": {},
   "outputs": [],
   "source": [
    "model.eval()\n",
    "likelihood.eval()"
   ]
  },
  {
   "cell_type": "code",
   "execution_count": null,
   "metadata": {},
   "outputs": [],
   "source": [
    "# plot a 3d surface of the prior\n",
    "x1_range = np.linspace(-2, 2, 180)\n",
    "x2_range = np.linspace(-2, 2, 180)\n",
    "x1_grid, x2_grid = np.meshgrid(x1_range, x2_range)\n",
    "grid_points = np.vstack([x1_grid.ravel(), x2_grid.ravel()]).T\n",
    "\n",
    "test_x = torch.tensor(grid_points, dtype=torch.float32, device=device)  \n",
    "\n",
    "print(\"shape of grid points tensor:\", test_x.shape)\n",
    "\n",
    "with torch.no_grad(), gpytorch.settings.fast_pred_var():\n",
    "    prior_grid = model(test_x)\n",
    "    test_y = prior_grid.mean.cpu().numpy().reshape(x1_grid.shape)\n",
    "    prior_variance = prior_grid.variance.cpu().numpy().reshape(x1_grid.shape)\n",
    "\n",
    "# plot the prior mean\n",
    "fig = plt.figure(figsize=(10, 8))   \n",
    "ax = fig.add_subplot(111, projection='3d')\n",
    "ax.plot_surface(x1_grid, x2_grid, test_y, cmap='viridis', edgecolor='none')\n",
    "ax.set_xlabel('X1')\n",
    "ax.set_ylabel('X2')\n",
    "ax.set_zlabel('Prior Mean')\n",
    "ax.set_title('3D Surface Plot of Prior Mean')\n",
    "plt.show()"
   ]
  },
  {
   "cell_type": "code",
   "execution_count": 31,
   "metadata": {},
   "outputs": [],
   "source": [
    "# save this dataset test_x and test_y as csv files\n",
    "np.savetxt(\"dataset1x_2d_32400.csv\", test_x.cpu().numpy(), delimiter=\",\")\n",
    "\n",
    "test_y = test_y.flatten()\n",
    "np.savetxt(\"dataset1y_2d_32400.csv\", test_y, delimiter=\",\")"
   ]
  },
  {
   "cell_type": "code",
   "execution_count": null,
   "metadata": {},
   "outputs": [],
   "source": [
    "# load the dataset from csv files\n",
    "loaded_test_x = np.loadtxt(\"dataset1x_2d_32400.csv\", delimiter=\",\")\n",
    "loaded_test_y = np.loadtxt(\"dataset1y_2d_32400.csv\", delimiter=\",\")\n",
    "\n",
    "print(\"Loaded test_x shape:\", loaded_test_x.shape)\n",
    "print(\"Loaded test_y shape:\", loaded_test_y.shape)"
   ]
  },
  {
   "cell_type": "code",
   "execution_count": null,
   "metadata": {},
   "outputs": [],
   "source": [
    "# plot the loaded dataset\n",
    "loaded_test_x = torch.tensor(loaded_test_x, dtype=torch.float32, device=device)\n",
    "loaded_test_y = torch.tensor(loaded_test_y, dtype=torch.float32, device=device)\n",
    "fig = plt.figure(figsize=(10, 8))\n",
    "ax = fig.add_subplot(111, projection='3d')\n",
    "ax.plot_surface(loaded_test_x[:, 0].cpu().numpy().reshape(x1_grid.shape), \n",
    "               loaded_test_x[:, 1].cpu().numpy().reshape(x2_grid.shape), \n",
    "               loaded_test_y.cpu().numpy().reshape(x1_grid.shape),\n",
    "               cmap='viridis', edgecolor='none')\n",
    "ax.set_xlabel('X1')\n",
    "ax.set_ylabel('X2')\n",
    "ax.set_zlabel('Prior Mean')\n",
    "ax.set_title('3D Surface Plot of Loaded Prior Mean')\n",
    "plt.show()"
   ]
  },
  {
   "cell_type": "code",
   "execution_count": null,
   "metadata": {},
   "outputs": [],
   "source": []
  }
 ],
 "metadata": {
  "kernelspec": {
   "display_name": "gpenv",
   "language": "python",
   "name": "python3"
  },
  "language_info": {
   "codemirror_mode": {
    "name": "ipython",
    "version": 3
   },
   "file_extension": ".py",
   "mimetype": "text/x-python",
   "name": "python",
   "nbconvert_exporter": "python",
   "pygments_lexer": "ipython3",
   "version": "3.10.12"
  }
 },
 "nbformat": 4,
 "nbformat_minor": 2
}
